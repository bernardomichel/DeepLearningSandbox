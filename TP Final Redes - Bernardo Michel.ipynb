{
  "nbformat": 4,
  "nbformat_minor": 0,
  "metadata": {
    "colab": {
      "name": "TP Final Redes - Bernardo Michel.ipynb",
      "version": "0.3.2",
      "provenance": [],
      "collapsed_sections": [],
      "toc_visible": true,
      "include_colab_link": true
    },
    "kernelspec": {
      "name": "python3",
      "display_name": "Python 3"
    }
  },
  "cells": [
    {
      "cell_type": "markdown",
      "metadata": {
        "id": "view-in-github",
        "colab_type": "text"
      },
      "source": [
        "<a href=\"https://colab.research.google.com/github/bernardomichel/DeepLearningSandbox/blob/master/TPFinal%2520-%2520Bernardo%2520Michel.ipynb\" target=\"_parent\"><img src=\"https://colab.research.google.com/assets/colab-badge.svg\" alt=\"Open In Colab\"/></a>"
      ]
    },
    {
      "metadata": {
        "id": "kgpNYr3c3LTK",
        "colab_type": "text"
      },
      "cell_type": "markdown",
      "source": [
        "# **Importación de librerías y declaración de constantes**\n",
        "\n",
        "---\n",
        "\n"
      ]
    },
    {
      "metadata": {
        "id": "a6Zta67A3dJt",
        "colab_type": "code",
        "colab": {}
      },
      "cell_type": "code",
      "source": [
        "import os\n",
        "import sys\n",
        "import glob\n",
        "import argparse\n",
        "import matplotlib.pyplot as plt\n",
        "\n",
        "from keras import __version__\n",
        "from keras.applications.inception_v3 import InceptionV3, preprocess_input\n",
        "from keras.models import Model\n",
        "from keras.layers import Dense, GlobalAveragePooling2D\n",
        "from keras.preprocessing.image import ImageDataGenerator\n",
        "from keras.optimizers import SGD\n",
        "\n",
        "\n",
        "IM_WIDTH, IM_HEIGHT = 299, 299 #fixed size for InceptionV3\n",
        "NB_EPOCHS = 3\n",
        "BAT_SIZE = 32\n",
        "FC_SIZE = 1024\n",
        "NB_IV3_LAYERS_TO_FREEZE = 172"
      ],
      "execution_count": 0,
      "outputs": []
    },
    {
      "metadata": {
        "id": "Ksg9JGRDVqJF",
        "colab_type": "text"
      },
      "cell_type": "markdown",
      "source": [
        "Preparación para entrenar"
      ]
    },
    {
      "metadata": {
        "id": "N5uENVAmVshI",
        "colab_type": "code",
        "colab": {}
      },
      "cell_type": "code",
      "source": [
        "def get_nb_files(directory):\n",
        "  \"\"\"Get number of files by searching directory recursively\"\"\"\n",
        "  if not os.path.exists(directory):\n",
        "    return 0\n",
        "  cnt = 0\n",
        "  for r, dirs, files in os.walk(directory):\n",
        "    for dr in dirs:\n",
        "      cnt += len(glob.glob(os.path.join(r, dr + \"/*\")))\n",
        "  return cnt\n",
        "\n",
        "\n",
        "def setup_to_transfer_learn(model, base_model):\n",
        "  \"\"\"Freeze all layers and compile the model\"\"\"\n",
        "  for layer in base_model.layers:\n",
        "    layer.trainable = False\n",
        "  model.compile(optimizer='rmsprop', loss='categorical_crossentropy', metrics=['accuracy'])\n",
        "\n",
        "\n",
        "def add_new_last_layer(base_model, nb_classes):\n",
        "  \"\"\"Add last layer to the convnet\n",
        "  Args:\n",
        "    base_model: keras model excluding top\n",
        "    nb_classes: # of classes\n",
        "  Returns:\n",
        "    new keras model with last layer\n",
        "  \"\"\"\n",
        "  x = base_model.output\n",
        "  x = GlobalAveragePooling2D()(x)\n",
        "  x = Dense(FC_SIZE, activation='relu')(x) #new FC layer, random init\n",
        "  predictions = Dense(nb_classes, activation='softmax')(x) #new softmax layer\n",
        "  model = Model(inputs=base_model.input, outputs=predictions)\n",
        "  return model\n",
        "\n",
        "\n",
        "def setup_to_finetune(model):\n",
        "  \"\"\"Freeze the bottom NB_IV3_LAYERS and retrain the remaining top layers.\n",
        "  note: NB_IV3_LAYERS corresponds to the top 2 inception blocks in the inceptionv3 arch\n",
        "  Args:\n",
        "    model: keras model\n",
        "  \"\"\"\n",
        "  for layer in model.layers[:NB_IV3_LAYERS_TO_FREEZE]:\n",
        "     layer.trainable = False\n",
        "  for layer in model.layers[NB_IV3_LAYERS_TO_FREEZE:]:\n",
        "     layer.trainable = True\n",
        "  model.compile(optimizer=SGD(lr=0.0001, momentum=0.9), loss='categorical_crossentropy', metrics=['accuracy'])\n"
      ],
      "execution_count": 0,
      "outputs": []
    },
    {
      "metadata": {
        "id": "LoJnZIXoVt3y",
        "colab_type": "text"
      },
      "cell_type": "markdown",
      "source": [
        "# Entrenamiento"
      ]
    },
    {
      "metadata": {
        "id": "qC_hhGpaVxA2",
        "colab_type": "code",
        "colab": {}
      },
      "cell_type": "code",
      "source": [
        "def train(args):\n",
        "  \"\"\"Use transfer learning and fine-tuning to train a network on a new dataset\"\"\"\n",
        "  nb_train_samples = get_nb_files(args.train_dir)\n",
        "  nb_classes = len(glob.glob(args.train_dir + \"/*\"))\n",
        "  print(nb_classes)\n",
        "  nb_val_samples = get_nb_files(args.val_dir)\n",
        "  nb_epoch = int(args.nb_epoch)\n",
        "  batch_size = int(args.batch_size)\n",
        "\n",
        "  # data prep\n",
        "  train_datagen =  ImageDataGenerator(\n",
        "      preprocessing_function=preprocess_input,\n",
        "      rotation_range=30,\n",
        "      width_shift_range=0.2,\n",
        "      height_shift_range=0.2,\n",
        "      shear_range=0.2,\n",
        "      zoom_range=0.2,\n",
        "      horizontal_flip=True\n",
        "  )\n",
        "  test_datagen = ImageDataGenerator(\n",
        "      preprocessing_function=preprocess_input,\n",
        "      rotation_range=30,\n",
        "      width_shift_range=0.2,\n",
        "      height_shift_range=0.2,\n",
        "      shear_range=0.2,\n",
        "      zoom_range=0.2,\n",
        "      horizontal_flip=True\n",
        "  )\n",
        "\n",
        "  train_generator = train_datagen.flow_from_directory(\n",
        "    args.train_dir,\n",
        "    target_size=(IM_WIDTH, IM_HEIGHT),\n",
        "    batch_size=batch_size\n",
        "  )\n",
        "  validation_generator = test_datagen.flow_from_directory(\n",
        "    args.val_dir,\n",
        "    target_size=(IM_WIDTH, IM_HEIGHT),\n",
        "    batch_size=batch_size\n",
        "  )\n",
        "\n",
        "  # setup model\n",
        "  base_model = InceptionV3(weights='imagenet', include_top=False) #include_top=False excludes final FC layer\n",
        "  model = add_new_last_layer(base_model, nb_classes)\n",
        "\n",
        "  # transfer learning\n",
        "  setup_to_transfer_learn(model, base_model)\n",
        "\n",
        "  history_tl = model.fit_generator(\n",
        "    generator = train_generator,\n",
        "    epochs=nb_epoch,\n",
        "    samples_per_epoch=nb_train_samples,\n",
        "    validation_data=validation_generator,\n",
        "    validation_steps=nb_val_samples/batch_size,\n",
        "    steps_per_epoch=nb_train_samples/batch_size,\n",
        "    class_weight=None    )\n",
        "\n",
        "  # fine-tuning\n",
        "  setup_to_finetune(model)\n",
        "\n",
        "  history_ft = model.fit_generator(\n",
        "    generator = train_generator,\n",
        "    samples_per_epoch=nb_train_samples,\n",
        "    epochs=nb_epoch,\n",
        "    validation_data=validation_generator,\n",
        "    validation_steps=nb_val_samples/batch_size,\n",
        "    class_weight=None\n",
        "    )\n",
        "\n",
        "  model.save(args.output_model_file)\n",
        "\n",
        "  if args.plot:\n",
        "    plot_training(history_tl)\n",
        "\n",
        "\n",
        "def plot_training(history):\n",
        "  acc = history.history['acc']\n",
        "  val_acc = history.history['val_acc']\n",
        "  loss = history.history['loss']\n",
        "  val_loss = history.history['val_loss']\n",
        "  epochs = range(len(acc))\n",
        "\n",
        "  plt.plot(epochs, acc, 'r.')\n",
        "  plt.plot(epochs, val_acc, 'r')\n",
        "  plt.title('Training and validation accuracy')\n",
        "\n",
        "  plt.figure()\n",
        "  plt.plot(epochs, loss, 'r.')\n",
        "  plt.plot(epochs, val_loss, 'r-')\n",
        "  plt.title('Training and validation loss')\n",
        "  plt.show()\n"
      ],
      "execution_count": 0,
      "outputs": []
    },
    {
      "metadata": {
        "id": "Hqblvcy8V2vY",
        "colab_type": "text"
      },
      "cell_type": "markdown",
      "source": [
        "# PRINCIPAL"
      ]
    },
    {
      "metadata": {
        "id": "ajmnjb_g3btG",
        "colab_type": "code",
        "colab": {
          "base_uri": "https://localhost:8080/",
          "height": 178
        },
        "cellView": "code",
        "outputId": "62a4275f-ef4a-473e-b0bf-9315cb4e583a"
      },
      "cell_type": "code",
      "source": [
        "class arguments:\n",
        "  train_dir = \"cars_train\"\n",
        "  val_dir = \"cars_val\"\n",
        "  nb_epoch = NB_EPOCHS\n",
        "  batch_size = BAT_SIZE\n",
        "  output_model_file = \"inceptionv3-ft.model\"\n",
        "  plot = \"store_true\"\n",
        "\n",
        "args = arguments()\n",
        "print(args.plot)\n",
        "if args.train_dir is None or args.val_dir is None:\n",
        "  a.print_help()\n",
        "  sys.exit(1)\n",
        "\n",
        "if (not os.path.exists(args.train_dir)) or (not os.path.exists(args.val_dir)):\n",
        "  print(\"directories do not exist\")\n",
        "  sys.exit(1)\n",
        "\n",
        "train(args)"
      ],
      "execution_count": 17,
      "outputs": [
        {
          "output_type": "stream",
          "text": [
            "store_true\n",
            "directories do not exist\n"
          ],
          "name": "stdout"
        },
        {
          "output_type": "error",
          "ename": "SystemExit",
          "evalue": "ignored",
          "traceback": [
            "An exception has occurred, use %tb to see the full traceback.\n",
            "\u001b[0;31mSystemExit\u001b[0m\u001b[0;31m:\u001b[0m 1\n"
          ]
        },
        {
          "output_type": "stream",
          "text": [
            "/usr/local/lib/python3.6/dist-packages/IPython/core/interactiveshell.py:2890: UserWarning: To exit: use 'exit', 'quit', or Ctrl-D.\n",
            "  warn(\"To exit: use 'exit', 'quit', or Ctrl-D.\", stacklevel=1)\n"
          ],
          "name": "stderr"
        }
      ]
    },
    {
      "metadata": {
        "id": "4cGUbfNTWZDe",
        "colab_type": "code",
        "colab": {}
      },
      "cell_type": "code",
      "source": [
        ""
      ],
      "execution_count": 0,
      "outputs": []
    }
  ]
}
