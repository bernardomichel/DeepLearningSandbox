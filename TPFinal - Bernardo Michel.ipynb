{
  "nbformat": 4,
  "nbformat_minor": 0,
  "metadata": {
    "colab": {
      "name": "Untitled3.ipynb",
      "version": "0.3.2",
      "provenance": [],
      "collapsed_sections": [],
      "toc_visible": true,
      "include_colab_link": true
    },
    "kernelspec": {
      "name": "python3",
      "display_name": "Python 3"
    }
  },
  "cells": [
    {
      "cell_type": "markdown",
      "metadata": {
        "id": "view-in-github",
        "colab_type": "text"
      },
      "source": [
        "<a href=\"https://colab.research.google.com/github/bernardomichel/DeepLearningSandbox/blob/master/TPFinal%20-%20Bernardo%20Michel.ipynb\" target=\"_parent\"><img src=\"https://colab.research.google.com/assets/colab-badge.svg\" alt=\"Open In Colab\"/></a>"
      ]
    },
    {
      "metadata": {
        "id": "GocgmYvN3HVq",
        "colab_type": "code",
        "colab": {}
      },
      "cell_type": "code",
      "source": [
        ""
      ],
      "execution_count": 0,
      "outputs": []
    },
    {
      "metadata": {
        "id": "kgpNYr3c3LTK",
        "colab_type": "text"
      },
      "cell_type": "markdown",
      "source": [
        "# **Importación de librerías y declaración de constantes**\n",
        "\n",
        "---\n",
        "\n"
      ]
    },
    {
      "metadata": {
        "id": "a6Zta67A3dJt",
        "colab_type": "code",
        "colab": {
          "base_uri": "https://localhost:8080/",
          "height": 34
        },
        "outputId": "8665d84b-1b2a-4fa0-b1cf-74e553f7f51e"
      },
      "cell_type": "code",
      "source": [
        "import os\n",
        "import sys\n",
        "import glob\n",
        "import argparse\n",
        "import matplotlib.pyplot as plt\n",
        "\n",
        "from keras import __version__\n",
        "from keras.applications.inception_v3 import InceptionV3, preprocess_input\n",
        "from keras.models import Model\n",
        "from keras.layers import Dense, GlobalAveragePooling2D\n",
        "from keras.preprocessing.image import ImageDataGenerator\n",
        "from keras.optimizers import SGD\n",
        "\n",
        "\n",
        "IM_WIDTH, IM_HEIGHT = 299, 299 #fixed size for InceptionV3\n",
        "NB_EPOCHS = 3\n",
        "BAT_SIZE = 32\n",
        "FC_SIZE = 1024\n",
        "NB_IV3_LAYERS_TO_FREEZE = 172"
      ],
      "execution_count": 1,
      "outputs": [
        {
          "output_type": "stream",
          "text": [
            "Using TensorFlow backend.\n"
          ],
          "name": "stderr"
        }
      ]
    },
    {
      "metadata": {
        "id": "ajmnjb_g3btG",
        "colab_type": "code",
        "colab": {}
      },
      "cell_type": "code",
      "source": [
        "if __name__==\"__main__\":\n",
        "  a = argparse.ArgumentParser()\n",
        "  a.add_argument(\"--train_dir\")\n",
        "  a.add_argument(\"--val_dir\")\n",
        "  a.add_argument(\"--nb_epoch\", default=NB_EPOCHS)\n",
        "  a.add_argument(\"--batch_size\", default=BAT_SIZE)\n",
        "  a.add_argument(\"--output_model_file\", default=\"inceptionv3-ft.model\")\n",
        "  a.add_argument(\"--plot\", action=\"store_true\")\n",
        "\n",
        "  args = a.parse_args()\n",
        "  if args.train_dir is None or args.val_dir is None:\n",
        "    a.print_help()\n",
        "    sys.exit(1)\n",
        "\n",
        "  if (not os.path.exists(args.train_dir)) or (not os.path.exists(args.val_dir)):\n",
        "    print(\"directories do not exist\")\n",
        "    sys.exit(1)\n",
        "\n",
        "  train(args)"
      ],
      "execution_count": 0,
      "outputs": []
    }
  ]
}